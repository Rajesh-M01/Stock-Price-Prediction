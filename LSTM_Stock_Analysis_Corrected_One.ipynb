{
  "cells": [
    {
      "cell_type": "code",
      "execution_count": 3,
      "metadata": {
        "colab": {
          "base_uri": "https://localhost:8080/",
          "height": 1000
        },
        "id": "sJoXSd-IH5HN",
        "outputId": "65634a18-5deb-496d-e9c3-07fa347923fd"
      },
      "outputs": [
        {
          "name": "stderr",
          "output_type": "stream",
          "text": [
            "ERROR: Could not find a version that satisfies the requirement tensorflow (from versions: none)\n",
            "ERROR: No matching distribution found for tensorflow\n"
          ]
        },
        {
          "ename": "ModuleNotFoundError",
          "evalue": "No module named 'matplotlib'",
          "output_type": "error",
          "traceback": [
            "\u001b[31m---------------------------------------------------------------------------\u001b[39m",
            "\u001b[31mModuleNotFoundError\u001b[39m                       Traceback (most recent call last)",
            "\u001b[36mCell\u001b[39m\u001b[36m \u001b[39m\u001b[32mIn[3]\u001b[39m\u001b[32m, line 7\u001b[39m\n\u001b[32m      5\u001b[39m \u001b[38;5;28;01mimport\u001b[39;00m\u001b[38;5;250m \u001b[39m\u001b[34;01mpandas\u001b[39;00m\u001b[38;5;250m \u001b[39m\u001b[38;5;28;01mas\u001b[39;00m\u001b[38;5;250m \u001b[39m\u001b[34;01mpd\u001b[39;00m\n\u001b[32m      6\u001b[39m \u001b[38;5;28;01mimport\u001b[39;00m\u001b[38;5;250m \u001b[39m\u001b[34;01mnumpy\u001b[39;00m\u001b[38;5;250m \u001b[39m\u001b[38;5;28;01mas\u001b[39;00m\u001b[38;5;250m \u001b[39m\u001b[34;01mnm\u001b[39;00m\n\u001b[32m----> \u001b[39m\u001b[32m7\u001b[39m \u001b[38;5;28;01mimport\u001b[39;00m\u001b[38;5;250m \u001b[39m\u001b[34;01mmatplotlib\u001b[39;00m\u001b[34;01m.\u001b[39;00m\u001b[34;01mpyplot\u001b[39;00m\u001b[38;5;250m \u001b[39m\u001b[38;5;28;01mas\u001b[39;00m\u001b[38;5;250m \u001b[39m\u001b[34;01mmtp\u001b[39;00m\n\u001b[32m      8\u001b[39m \u001b[38;5;28;01mfrom\u001b[39;00m\u001b[38;5;250m \u001b[39m\u001b[34;01mtensorflow\u001b[39;00m\u001b[34;01m.\u001b[39;00m\u001b[34;01mkeras\u001b[39;00m\u001b[34;01m.\u001b[39;00m\u001b[34;01mlayers\u001b[39;00m\u001b[38;5;250m \u001b[39m\u001b[38;5;28;01mimport\u001b[39;00m LSTM, Dense\n\u001b[32m      9\u001b[39m \u001b[38;5;28;01mfrom\u001b[39;00m\u001b[38;5;250m \u001b[39m\u001b[34;01mtensorflow\u001b[39;00m\u001b[34;01m.\u001b[39;00m\u001b[34;01mkeras\u001b[39;00m\u001b[34;01m.\u001b[39;00m\u001b[34;01mmodels\u001b[39;00m\u001b[38;5;250m \u001b[39m\u001b[38;5;28;01mimport\u001b[39;00m Sequential\n",
            "\u001b[31mModuleNotFoundError\u001b[39m: No module named 'matplotlib'"
          ]
        }
      ],
      "source": [
        "# Install dependencies (if not installed)\n",
        "!pip install tensorflow pandas numpy scikit-learn matplotlib\n",
        "\n",
        "# Import necessary libraries\n",
        "import pandas as pd\n",
        "import numpy as nm\n",
        "import matplotlib.pyplot as mtp\n",
        "from tensorflow.keras.layers import LSTM, Dense\n",
        "from tensorflow.keras.models import Sequential\n",
        "from sklearn.preprocessing import MinMaxScaler\n",
        "from sklearn.metrics import mean_squared_error\n",
        "\n",
        "# Load dataset\n",
        "d_data = pd.read_csv('/content/tesla-stock-price.csv')\n",
        "\n",
        "# Use the actual stock price column (e.g., 'close' or 'open')\n",
        "stock_prices = d_data['close'].values.reshape(-1, 1)  # Choose 'close' or 'adj close'\n",
        "\n",
        "# Scale stock prices for LSTM\n",
        "scaler = MinMaxScaler(feature_range=(0,1))  # Normalize between 0 and 1\n",
        "scaled_data = scaler.fit_transform(stock_prices)\n",
        "\n",
        "# Function to create sequences for LSTM\n",
        "def seq_creation(data, seq_length):\n",
        "    a, b = [], []\n",
        "    for i in range(len(data) - seq_length - 1):\n",
        "        seq = data[i:(i + seq_length), 0]  # Extract sequences\n",
        "        a.append(seq)\n",
        "        b.append(data[i + seq_length, 0])  # Predict next stock price\n",
        "    return nm.array(a), nm.array(b)\n",
        "\n",
        "# Define sequence length\n",
        "seq_length = 100\n",
        "X, Y = seq_creation(scaled_data, seq_length)\n",
        "\n",
        "# Split into train and test sets\n",
        "train_size = int(len(X) * 0.8)\n",
        "test_size = len(X) - train_size\n",
        "\n",
        "X_train, X_test = X[0:train_size, :], X[train_size:len(X), :]\n",
        "Y_train, Y_test = Y[0:train_size], Y[train_size:len(Y)]\n",
        "\n",
        "# Reshape for LSTM (samples, time steps, features)\n",
        "X_train = nm.reshape(X_train, (X_train.shape[0], X_train.shape[1], 1))\n",
        "X_test = nm.reshape(X_test, (X_test.shape[0], X_test.shape[1], 1))\n",
        "\n",
        "# Define LSTM model\n",
        "model = Sequential()\n",
        "model.add(LSTM(units=50, return_sequences=True, input_shape=(X_train.shape[1], 1)))\n",
        "model.add(LSTM(units=50))\n",
        "model.add(Dense(units=1))\n",
        "\n",
        "# Compile model\n",
        "model.compile(optimizer='adam', loss='mean_squared_error')  # Adam is better than SGD\n",
        "\n",
        "# Train the model\n",
        "model.fit(X_train, Y_train, epochs=25, batch_size=32)\n",
        "\n",
        "# Make predictions\n",
        "predictions = model.predict(X_test)\n",
        "\n",
        "# Inverse transform predictions to get actual stock prices\n",
        "predictions = scaler.inverse_transform(predictions.reshape(-1, 1))\n",
        "Y_test = scaler.inverse_transform(Y_test.reshape(-1, 1))\n",
        "\n",
        "# Plot actual vs predicted stock prices\n",
        "mtp.figure(figsize=(10,5))\n",
        "mtp.plot(Y_test, color='blue', label='Actual Stock Price')\n",
        "mtp.plot(predictions, color='green', label='Predicted Stock Price')\n",
        "mtp.title('LSTM Stock Price Prediction')\n",
        "mtp.xlabel('Time')\n",
        "mtp.ylabel('Stock Price')\n",
        "mtp.legend()\n",
        "mtp.show()"
      ]
    },
    {
      "cell_type": "code",
      "execution_count": null,
      "metadata": {
        "id": "clP_RI_UEZmJ"
      },
      "outputs": [],
      "source": [
        "from google.colab import drive\n",
        "drive.mount('/content/drive')"
      ]
    }
  ],
  "metadata": {
    "colab": {
      "provenance": []
    },
    "kernelspec": {
      "display_name": "Python 3",
      "name": "python3"
    },
    "language_info": {
      "codemirror_mode": {
        "name": "ipython",
        "version": 3
      },
      "file_extension": ".py",
      "mimetype": "text/x-python",
      "name": "python",
      "nbconvert_exporter": "python",
      "pygments_lexer": "ipython3",
      "version": "3.13.1"
    }
  },
  "nbformat": 4,
  "nbformat_minor": 0
}
